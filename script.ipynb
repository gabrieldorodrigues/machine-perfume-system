{
  "cells": [
    {
      "cell_type": "code",
      "execution_count": 13,
      "metadata": {},
      "outputs": [],
      "source": [
        "import pandas as pd\n",
        "from sklearn.feature_extraction.text import TfidfVectorizer\n",
        "from sklearn.preprocessing import StandardScaler\n",
        "from sklearn.cluster import KMeans\n",
        "from sklearn.metrics.pairwise import cosine_similarity\n",
        "import joblib\n",
        "\n",
        "# Load dataset\n",
        "df = pd.read_csv('data/dataset_tratado.csv')\n",
        "\n",
        "# Define a function to clean and parse the notes\n",
        "def parse_notes(notes):\n",
        "    notes_list = notes.split(',')  # Split by comma\n",
        "    notes_list = [note.strip() for note in notes_list]  # Strip whitespace\n",
        "    return ' '.join(notes_list)  # Combine back to a single string\n",
        "\n",
        "# Apply the function to the 'notes' column\n",
        "df['notes_combined'] = df['notes'].apply(parse_notes)\n",
        "\n",
        "# Vectorize notes\n",
        "vectorizer = TfidfVectorizer()\n",
        "X_full = vectorizer.fit_transform(df['notes_combined'])\n",
        "\n",
        "# Save the vectorizer\n",
        "joblib.dump(vectorizer, 'model/vectorizer.pkl')\n",
        "\n",
        "# Save the notes vectors\n",
        "df_vectors = pd.DataFrame(X_full.toarray(), index=df.index)\n",
        "df_vectors.to_csv('data/notes_vectors.csv', index=False)\n",
        "\n",
        "# Save the dataset with 'notes_combined' and 'vectors'\n",
        "df.to_csv('data/dataset_tratado.csv', index=False)"
      ]
    }
  ],
  "metadata": {
    "colab": {
      "provenance": [],
      "toc_visible": true
    },
    "kernelspec": {
      "display_name": "Python 3",
      "name": "python3"
    },
    "language_info": {
      "codemirror_mode": {
        "name": "ipython",
        "version": 3
      },
      "file_extension": ".py",
      "mimetype": "text/x-python",
      "name": "python",
      "nbconvert_exporter": "python",
      "pygments_lexer": "ipython3",
      "version": "3.12.4"
    }
  },
  "nbformat": 4,
  "nbformat_minor": 0
}
